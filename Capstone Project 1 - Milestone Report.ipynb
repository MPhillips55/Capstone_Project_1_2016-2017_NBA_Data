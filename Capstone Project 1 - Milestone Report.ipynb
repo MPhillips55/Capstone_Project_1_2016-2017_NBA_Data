{
 "cells": [
  {
   "cell_type": "markdown",
   "metadata": {},
   "source": [
    "# Capstone Project 1 - Milestone Report\n",
    "## 2016-2017 NBA Season Dataset\n",
    "## Michael Phillips"
   ]
  },
  {
   "cell_type": "markdown",
   "metadata": {},
   "source": [
    "## Introduction\n",
    "\n",
    "Winning and losing is paramount in pro sports. Jobs are on the line every day, from individual players to executives who shape strategy and build teams. Identifying exactly what sets the winning teams apart from the losing teams and providing concrete examples of what needs to change could impact an organization at every level. Based on the results of an analysis, you could tell an individual player to shoot more corner 3's, change the team's defensive scheme to guard against the pick-and-roll in different ways, provide the coach with information that could help design higher-percentage plays, and assist the executives with finding players that fit the new model.\n",
    "\n",
    "I envision my client being a team General Manager who is responsible for building a team and working with the coach to decide which strategies to pursue. As mentioned, winning or losing is critical to these people."
   ]
  },
  {
   "cell_type": "markdown",
   "metadata": {},
   "source": [
    "## The Data\n",
    "\n",
    "I selected three datasets obtained from an NBA data warehousing site affiliated with NBAstuffer.com. This site has provided analytics to the general public for over a decade and recently began selling their data to interested parties. Using a student discount the data was obtained for a reasonable price and is provided in nicely-formatted csv files.\n",
    "\n",
    "### What important fields and information does the data have?\n",
    "\n",
    "The three datasets encompass the 2016-2017 NBA season and include full team and player box scores for every game, as well as play-by-play data for every game including shot coordinates that allow mapping of shot charts. As I have done thus far, I will use some of the raw stats reported for every NBA game such as assists, turnovers, and field goal percentage. I also have experimented with creating my own stats, and plan to continue exploring this. \n",
    "\n",
    "### What are the limitations of the dataset?\n",
    "\n",
    "There are some obvious ones inherent to sports box scores. Defense is notoriously hard to measure in a box score format - there's no stat that records closing out hard on a shooter or playing an opponent's pick-and-roll well. For that reason, I will focus on offensive performance to guide my predictive model (with the possible exception of opponent's field goal percentage). \n",
    "\n",
    "NBA data is in a strange place right now. I think there are many members of the general public interested in analyzing NBA datasets, but they are mostly locked behind arcane (and often changing) API's on the NBA's own stats website, or available on 3rd-party sites that are aimed at NBA/College professionals and are too expensive for most casual fans to access. There are other stats I would be interested in analyzing (such as offensive touches that don't lead to a stat) but what I have should paint a pretty decent picture of the current NBA landscape.\n",
    "\n",
    "### What kind of cleaning/wrangling was necessary?\n",
    "\n",
    "I chose to work with 3 datasets compiled from box scores and NBA API feeds from the 2016-2017 NBA Season. The data was obtained from a website specializing in providing this type of sports data in csv and Excel files. At first glance the data seemed to be in decent shape, and a first pass at wrangling the 3 files went fairly quickly. The 3 datasets are as follows:\n",
    "\n",
    "- 'box_Score_Team_Stats.xlsx' - 2460 rows, 40 columns. 2 rows per game, 1 for the home team and one for away team. Typical NBA box score data fills out the rest of the file.\n",
    "\n",
    "\n",
    "- 'Player_BoxScore_Dataset.xlsx' - 26137 rows, and 23 columns. This file contains a variable number of rows per game depending on how many players entered the game (and thus generated stats), 15-24 rows total per game. Typical NBA box score data makes up the rest of this file.\n",
    "\n",
    "\n",
    "- 'combined-stats.csv' - 603493 rows, 44 columns. The most interesting file, at least at first glance. Many, many rows per game, each one representing a play that could be recorded as a stat. Some examples of these plays would be 'foul', 'layup', 'steal', 'assist', etc. This file also contains many other variables recorded for each play including the players that are on the court at the applicable time, the players involved in the play, shot distance from the basket, time data that shows when during the game the play took place, and court coordinate data that allows mapping where the play took place on a virtual court.\n",
    "\n",
    "Files 1 and 2 were mostly in good shape. I did remove the 'DATASET' descriptor column as it merely identified the dataset and provided no other useful information. I also converted the 'DATE' column to a datetime object. I checked the datatypes of my other columns and they were appropriately identified by pandas as strings, ints, or floats so no other changes were necessary at this time.\n",
    "\n",
    "File 3 had some issues when first read into pandas. The datatypes were all over the place and for my eventual project I knew I needed to make a few other changes. I'll list the steps I took to get the data into a manageable place to begin my analysis.\n",
    "\n",
    "- 'remaining_time', 'elapsed', and 'play_length' columns charted where in the course of the game, and shot clock, a play took place. To be able to analyze these metrics I needed to convert them all to the same scale - I chose seconds. Pandas read the columns initially as strings, so I used built-in Python packages 'time' and 'datetime' to convert to datetime and then convert that object to seconds. There were a few other wrinkles here, the full process is documented in the notebooks attached to this repository.\n",
    "\n",
    "\n",
    "- Next I noticed many of the columns that should hold numbers were imported as strings. This was due to a few instances of 'unknown' mixed into the columns. I replaced 'unknown' with NaN's and converted these columns to int's or float's as appropriate.\n",
    "\n",
    "\n",
    "- I dropped the 'data_set' column again as it was useless.\n",
    "\n",
    "\n",
    "- 'game_id' is a unique identifier for each game that I will likely need to utilize during my project. It was unfortunately imported as a string of the Excel formula that created it. An example entry for this column was ' \"=21600001\" '. I removed the extra quotation marks and the equals sign and recast as int.\n",
    "\n",
    "\n",
    "- Changed the 'date' column to a datetime object.\n",
    "\n",
    "I exported the 3 datasets to new csv's and reimported to test that the changes were all successful. With these changes I am ready to begin the analysis phase of the project.\n",
    "\n",
    "### Are there other datasets that would help answer the questions that matter?\n",
    "\n",
    "The short answer is of course, yes. I would be interested in pulling in salary data to find players that perform well compared to the amount of money they make. But that is a secondary concern to my main goal - which is to identify trends that would theoretically help an NBA team win more games. For this project, I think the data I have is more than enough to meet that goal."
   ]
  },
  {
   "cell_type": "markdown",
   "metadata": {},
   "source": [
    "## Preliminary Exploration\n",
    "\n",
    "I have completed an EDA of the 2016-2017 NBA dataset. I had several ideas that I wanted to cover in that report that I think have been explored fairly exhaustively. \n",
    "\n",
    "Just from playing and watching basketball for over 25 years I had some hypotheses formed that I wanted to test. I looked at how assists correlate to wins (the mean difference between playoff and non-playoff teams was found to be significant at an alpha level of .05). Shot chart data was mapped for the Sacramento Kings and the Golden State Warriors and the differences were examined. Opponent's field goal percentage showed a clear correlation to winning games. \n",
    "\n",
    "I also created my own player and team efficiency statistic using box score data. For players, I think the stat was very useful and highlighted some less well-known players. For the team statistic, I was less impressed. The difference in mean scores for playoff and non-playoff teams was not statistically significant at a .05 alpha level. That doesn't necessarily mean the stat is worthless, it actually does have some use in identifying team styles, but overall I think I was expecting a bit more difference between good and bad teams.\n",
    "\n",
    "Team possessions was another area that surprised me. I was guessing, mostly from watching NBA games, that teams that played at a higher pace would be more successful, but from looking at the data that was not the case. Game pace varied wildly across the league, and it was possible to win games playing relatively slow or fast, just as the worst teams could be either fast-paced or not. "
   ]
  },
  {
   "cell_type": "markdown",
   "metadata": {},
   "source": [
    "## What's to come?\n",
    "\n",
    "At this point, I have a solid grasp on both the structure and contents of the dataset. I am comfortable working with it. The last major deliverable for this project will be a predictive model that I am quite excited to begin working on. \n",
    "\n",
    "My current plan is to use either decision trees or random forest algorithms along with a simple regression to do two things. The model will work like this: first, the prospective client will enter their team's box score data for one game. The decision tree/random forest element will use the existing box score and possibly shot chart data to predict whether or not the team in question played well enough to win and report that back. The regression algorithm will extrapolate the box score data to an entire season and predict the number of games the team would expect to win if they played similarly for 82 games.\n",
    "\n",
    "One optional element that I would like to incorporate is a simple way for the client to tweak individual stats by certain percentages (5%, 10%, 15% for example) to find areas that if improved would lead to more wins. "
   ]
  }
 ],
 "metadata": {
  "anaconda-cloud": {},
  "kernelspec": {
   "display_name": "Python [conda env:py35]",
   "language": "python",
   "name": "conda-env-py35-py"
  },
  "language_info": {
   "codemirror_mode": {
    "name": "ipython",
    "version": 3
   },
   "file_extension": ".py",
   "mimetype": "text/x-python",
   "name": "python",
   "nbconvert_exporter": "python",
   "pygments_lexer": "ipython3",
   "version": "3.5.2"
  }
 },
 "nbformat": 4,
 "nbformat_minor": 1
}
