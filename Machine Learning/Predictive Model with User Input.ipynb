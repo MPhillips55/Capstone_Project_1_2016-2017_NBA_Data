{
 "cells": [
  {
   "cell_type": "code",
   "execution_count": 1,
   "metadata": {
    "collapsed": false,
    "scrolled": true
   },
   "outputs": [
    {
     "name": "stdout",
     "output_type": "stream",
     "text": [
      "             precision    recall  f1-score   support\n",
      "\n",
      "          0       0.83      0.85      0.84       308\n",
      "          1       0.85      0.83      0.84       307\n",
      "\n",
      "avg / total       0.84      0.84      0.84       615\n",
      "\n"
     ]
    }
   ],
   "source": [
    "import os\n",
    "filepath ='D:\\\\Springboard\\\\NBA Capstone Project\\\\Machine Learning'\n",
    "os.chdir(filepath)\n",
    "%run ml.py"
   ]
  },
  {
   "cell_type": "code",
   "execution_count": 2,
   "metadata": {
    "collapsed": false
   },
   "outputs": [
    {
     "data": {
      "text/plain": [
       "0.83902439024390241"
      ]
     },
     "execution_count": 2,
     "metadata": {},
     "output_type": "execute_result"
    }
   ],
   "source": [
    "accuracy_score(y_test, pred)"
   ]
  },
  {
   "cell_type": "code",
   "execution_count": 25,
   "metadata": {
    "collapsed": false
   },
   "outputs": [
    {
     "name": "stdout",
     "output_type": "stream",
     "text": [
      "Input your own team's stats and test them with the predictive model.\n",
      "Let's get started.\n",
      "3 Pointers Made\n",
      "1\n",
      "Offensive Effeciency\n",
      "1\n",
      "Number of Rest Days\n",
      "1\n",
      "3 Pointers Attempted\n",
      "1\n",
      "Offensive Rebounds\n",
      "1\n",
      "Number of Personal Fouls\n",
      "1\n",
      "Long Range Shots\n",
      "1\n",
      "Oppenents Field Goal Percentage\n",
      "1\n",
      "Pace\n",
      "1\n",
      "Opponent's Defensive Rebounds\n",
      "1\n",
      "Field Goals Made\n",
      "1\n",
      "Field Goals Attempted\n",
      "1\n",
      "Close Range Shots\n",
      "1\n",
      "Defensive Efficiency\n",
      "1\n",
      "Points\n",
      "1\n",
      "Blocks\n",
      "1\n",
      "Total Turnovers\n",
      "1\n",
      "Opponent's Offensive Rebounds\n",
      "1\n",
      "Steals\n",
      "1\n",
      "Mid Range Shots\n",
      "1\n",
      "Total Rebounds\n",
      "1\n",
      "Free Throws Made\n",
      "1\n",
      "Defensive Rebounds\n",
      "1\n",
      "Possessions\n",
      "1\n",
      "Free Throws Attempted\n",
      "1\n",
      "Assists\n",
      "1\n"
     ]
    }
   ],
   "source": [
    "%run ml_input.py"
   ]
  },
  {
   "cell_type": "code",
   "execution_count": 41,
   "metadata": {
    "collapsed": false
   },
   "outputs": [
    {
     "name": "stdout",
     "output_type": "stream",
     "text": [
      "The percent chance of losing is 55.07%.\n",
      "The percent chance of winning is 44.93%.\n"
     ]
    }
   ],
   "source": [
    "user_test = df.values\n",
    "\n",
    "prediction = rfc.predict_proba(user_test)\n",
    "\n",
    "nest_list_pred = np.ndarray.tolist(prediction)\n",
    "\n",
    "list_pred = nest_list_pred[0]\n",
    "\n",
    "chance_of_losing = (list_pred[0] * 100)\n",
    "\n",
    "chance_of_winning = (list_pred[1] * 100)\n",
    "\n",
    "print(\"The percent chance of losing is %.2f%%.\" % chance_of_losing)\n",
    "\n",
    "print(\"The percent chance of winning is %.2f%%.\" % chance_of_winning)"
   ]
  },
  {
   "cell_type": "code",
   "execution_count": 49,
   "metadata": {
    "collapsed": false
   },
   "outputs": [
    {
     "name": "stdout",
     "output_type": "stream",
     "text": [
      "Input your own team's stats and test them with the predictive model.\n",
      "Let's get started.\n",
      "3 Pointers Made\n",
      "1\n",
      "Field Goals Attempted\n",
      "5\n",
      "Total Turnovers\n",
      "5\n",
      "3 Pointers Attempted\n",
      "5\n",
      "Offensive Rebounds\n",
      "5\n",
      "Steals\n",
      "5\n",
      "Oppenents Field Goal Percentage\n",
      "5\n",
      "Total Rebounds\n",
      "5\n",
      "Free Throws Made\n",
      "5\n",
      "Field Goals Made\n",
      "5\n",
      "Defensive Rebounds\n",
      "5\n",
      "Free Throws Attempted\n",
      "5\n",
      "Assists\n",
      "5\n",
      "Blocks\n",
      "5\n"
     ]
    }
   ],
   "source": [
    "%run adjustments.py"
   ]
  },
  {
   "cell_type": "code",
   "execution_count": 50,
   "metadata": {
    "collapsed": false
   },
   "outputs": [
    {
     "name": "stdout",
     "output_type": "stream",
     "text": [
      "The percent chance of losing is 56.86%.\n",
      "The percent chance of winning is 43.14%.\n"
     ]
    }
   ],
   "source": [
    "user_test = df2.values\n",
    "\n",
    "prediction = rfc.predict_proba(user_test)\n",
    "\n",
    "nest_list_pred = np.ndarray.tolist(prediction)\n",
    "\n",
    "list_pred = nest_list_pred[0]\n",
    "\n",
    "chance_of_losing = (list_pred[0] * 100)\n",
    "\n",
    "chance_of_winning = (list_pred[1] * 100)\n",
    "\n",
    "print(\"The percent chance of losing is %.2f%%.\" % chance_of_losing)\n",
    "\n",
    "print(\"The percent chance of winning is %.2f%%.\" % chance_of_winning)"
   ]
  },
  {
   "cell_type": "code",
   "execution_count": 54,
   "metadata": {
    "collapsed": false
   },
   "outputs": [
    {
     "data": {
      "text/plain": [
       "[<matplotlib.text.Text at 0x1c1ab148ac8>,\n",
       " <matplotlib.text.Text at 0x1c1ab14a898>,\n",
       " <matplotlib.text.Text at 0x1c1ab1e2ef0>,\n",
       " <matplotlib.text.Text at 0x1c1ab1e4d68>,\n",
       " <matplotlib.text.Text at 0x1c1ab1e89e8>,\n",
       " <matplotlib.text.Text at 0x1c1ab1ec668>,\n",
       " <matplotlib.text.Text at 0x1c1ab1f02e8>,\n",
       " <matplotlib.text.Text at 0x1c1ab1f0f28>,\n",
       " <matplotlib.text.Text at 0x1c1ab1f3ba8>,\n",
       " <matplotlib.text.Text at 0x1c1ab1f3940>,\n",
       " <matplotlib.text.Text at 0x1c1ab1397f0>,\n",
       " <matplotlib.text.Text at 0x1c1ab205d68>,\n",
       " <matplotlib.text.Text at 0x1c1ab205128>,\n",
       " <matplotlib.text.Text at 0x1c1ab20cdd8>,\n",
       " <matplotlib.text.Text at 0x1c1ab20ea58>,\n",
       " <matplotlib.text.Text at 0x1c1ab2126d8>,\n",
       " <matplotlib.text.Text at 0x1c1ab217358>,\n",
       " <matplotlib.text.Text at 0x1c1ab217f98>,\n",
       " <matplotlib.text.Text at 0x1c1ab219c18>,\n",
       " <matplotlib.text.Text at 0x1c1ab21d898>,\n",
       " <matplotlib.text.Text at 0x1c1ab222518>,\n",
       " <matplotlib.text.Text at 0x1c1ab225198>,\n",
       " <matplotlib.text.Text at 0x1c1ab225dd8>,\n",
       " <matplotlib.text.Text at 0x1c1ab22aa58>,\n",
       " <matplotlib.text.Text at 0x1c1ab22f6d8>,\n",
       " <matplotlib.text.Text at 0x1c1ab231358>,\n",
       " <matplotlib.text.Text at 0x1c1ab231f98>,\n",
       " <matplotlib.text.Text at 0x1c1ab235c18>,\n",
       " <matplotlib.text.Text at 0x1c1ab237898>,\n",
       " <matplotlib.text.Text at 0x1c1ab23d518>,\n",
       " <matplotlib.text.Text at 0x1c1ab241198>]"
      ]
     },
     "execution_count": 54,
     "metadata": {},
     "output_type": "execute_result"
    },
    {
     "data": {
      "image/png": "[encoded data removed]",
      "text/plain": [
       "<matplotlib.figure.Figure at 0x1c1a9fdf940>"
      ]
     },
     "metadata": {},
     "output_type": "display_data"
    }
   ],
   "source": [
    "fi = rfc.feature_importances_\n",
    "fi_df = pd.DataFrame({'fi':fi})\n",
    "\n",
    "fi_names = list(df.columns.values)\n",
    "fi_names_df = pd.DataFrame({'fi_names':fi_names})\n",
    "\n",
    "fi_imp = fi_names_df.join(fi_df)\n",
    "fi_imp = fi_imp.sort_values(by='fi',ascending=False)\n",
    "fi_imp.reset_index(drop=True,inplace=True)\n",
    "import matplotlib.pyplot as plt\n",
    "%matplotlib inline\n",
    "ax = fi_imp.plot(kind='bar',figsize=(15,10))\n",
    "ax.set_xticklabels(fi_imp.fi_names)"
   ]
  }
 ],
 "metadata": {
  "kernelspec": {
   "display_name": "Python [conda env:py3DataScience]",
   "language": "python",
   "name": "conda-env-py3DataScience-py"
  },
  "language_info": {
   "codemirror_mode": {
    "name": "ipython",
    "version": 3
   },
   "file_extension": ".py",
   "mimetype": "text/x-python",
   "name": "python",
   "nbconvert_exporter": "python",
   "pygments_lexer": "ipython3",
   "version": "3.5.3"
  }
 },
 "nbformat": 4,
 "nbformat_minor": 1
}
