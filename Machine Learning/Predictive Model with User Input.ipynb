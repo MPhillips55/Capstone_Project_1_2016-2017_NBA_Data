{
 "cells": [
  {
   "cell_type": "markdown",
   "metadata": {},
   "source": [
    "# Predictive Model with User Input\n",
    "## 2016-2017 NBA Season\n",
    "## Michael Phillips\n",
    "\n",
    "### This notebook will allow you to train and test a predictive model using the 2016-2017 NBA Season Dataset. \n",
    "\n",
    "### Highlight a cell and press shift-enter to execute it. Please go in order down the page."
   ]
  },
  {
   "cell_type": "code",
   "execution_count": 9,
   "metadata": {
    "collapsed": false,
    "scrolled": true
   },
   "outputs": [
    {
     "name": "stdout",
     "output_type": "stream",
     "text": [
      "             precision    recall  f1-score   support\n",
      "\n",
      "          0       0.89      0.86      0.87       308\n",
      "          1       0.86      0.89      0.88       307\n",
      "\n",
      "avg / total       0.87      0.87      0.87       615\n",
      "\n",
      "The model predicts 87.32% of the games it tests correctly.\n"
     ]
    }
   ],
   "source": [
    "import os\n",
    "filepath ='D:\\\\Springboard\\\\NBA Capstone Project\\\\Machine Learning'\n",
    "os.chdir(filepath)\n",
    "%run ml.py"
   ]
  },
  {
   "cell_type": "code",
   "execution_count": 10,
   "metadata": {
    "collapsed": false
   },
   "outputs": [
    {
     "name": "stdout",
     "output_type": "stream",
     "text": [
      "True Negatives: 264\n",
      "True Positives: 273\n",
      "False Negatives: 34\n",
      "False Positives: 44\n"
     ]
    }
   ],
   "source": [
    "from sklearn.metrics import confusion_matrix\n",
    "tn, fp, fn, tp = confusion_matrix(y_test, pred).ravel()\n",
    "print(\"True Negatives: %d\" % tn)\n",
    "print(\"True Positives: %d\" % tp)\n",
    "print(\"False Negatives: %d\" % fn)\n",
    "print(\"False Positives: %d\" % fp)"
   ]
  },
  {
   "cell_type": "code",
   "execution_count": 11,
   "metadata": {
    "collapsed": false
   },
   "outputs": [],
   "source": [
    "fi_imp.to_csv('fi.csv')"
   ]
  },
  {
   "cell_type": "code",
   "execution_count": 12,
   "metadata": {
    "collapsed": false
   },
   "outputs": [
    {
     "data": {
      "image/png": "[encoded data removed]",
      "text/plain": [
       "<matplotlib.figure.Figure at 0x1d36bc6ee48>"
      ]
     },
     "metadata": {},
     "output_type": "display_data"
    }
   ],
   "source": [
    "fi = rfc.feature_importances_\n",
    "fi_df = pd.DataFrame({'fi':fi})\n",
    "\n",
    "fi_names = list(df_rf.columns.values)\n",
    "fi_names_df = pd.DataFrame({'fi_names':fi_names})\n",
    "\n",
    "fi_imp = fi_names_df.join(fi_df)\n",
    "fi_imp = fi_imp.sort_values(by='fi',ascending=False)\n",
    "fi_imp.reset_index(drop=True,inplace=True)\n",
    "import matplotlib.pyplot as plt\n",
    "%matplotlib inline\n",
    "ax = fi_imp.plot(kind='bar',figsize=(15,10))\n",
    "ax.set_xticklabels(fi_imp.fi_names);"
   ]
  },
  {
   "cell_type": "markdown",
   "metadata": {},
   "source": [
    "### Running the next cell will allow you to input your own team's stats and test them using the model created in the previous step. The accepted inputs are restricted to numbers only.\n",
    "\n",
    "### NOTE: For the field \"Number of Rest Days\", use the following conversions:\n",
    "- For 3+ days off enter **'3'**\n",
    "\n",
    "- For Back to Back games enter **'0'**\n",
    "\n",
    "- For 1 day off enter **'1'**\n",
    "\n",
    "- For 2 days off enter **'2'**\n",
    "\n",
    "- For 3 games in 4 nights enter **'0.75'**\n",
    "\n",
    "- For 3 games in 4 nights - back-to-back enter **'0.5'**\n",
    "\n",
    "- For 4 games in 5 nights enter **'0.2'**\n"
   ]
  },
  {
   "cell_type": "code",
   "execution_count": 15,
   "metadata": {
    "collapsed": false
   },
   "outputs": [
    {
     "name": "stdout",
     "output_type": "stream",
     "text": [
      "Input box-score stats and test them against the predictive model.\n",
      "Defensive Rebounds\n",
      "36\n",
      "Offensive Rebounds\n",
      "23\n",
      "Field Goals Made\n",
      "37\n",
      "Blocks\n",
      "3\n",
      "Total Rebounds\n",
      "59\n",
      "Mid Range Shots\n",
      "45\n",
      "Oppenents Field Goal Percentage\n",
      ".451\n",
      "Close Range Shots\n",
      "30\n",
      "Total Turnovers\n",
      "15\n",
      "Number of Personal Fouls\n",
      "15\n",
      "3 Pointers Attempted\n",
      "29\n",
      "Assists\n",
      "23\n",
      "Opponent's Attempted Field Goals\n",
      "82\n",
      "Opponent's Made 3 Pointers\n",
      "8\n",
      "Number of Rest Days\n",
      "2\n",
      "Opponent's Offensive Rebounds\n",
      "7\n",
      "Free Throws Made\n",
      "20\n",
      "Opponent's Defensive Rebounds\n",
      "33\n",
      "Points\n",
      "106\n",
      "Field Goals Attempted\n",
      "96\n",
      "Steals\n",
      "5\n",
      "Free Throws Attempted\n",
      "26\n",
      "Opponent's Made Field Goals\n",
      "37\n",
      "3 Pointers Made\n",
      "12\n",
      "Long Range Shots\n",
      "5\n"
     ]
    }
   ],
   "source": [
    "%run ml_input.py"
   ]
  },
  {
   "cell_type": "code",
   "execution_count": 34,
   "metadata": {
    "collapsed": false
   },
   "outputs": [
    {
     "name": "stdout",
     "output_type": "stream",
     "text": [
      "The predicted chance of winning the game is 50.92%.\n",
      "The predicted chance of losing the game is 49.08%.\n"
     ]
    }
   ],
   "source": [
    "user_test = df.values\n",
    "\n",
    "prediction = rfc.predict_proba(user_test)\n",
    "\n",
    "nest_list_pred = np.ndarray.tolist(prediction)\n",
    "print(\"The predicted chance of winning the game is %.2f%%.\" % (nest_list_pred[0][1] * 100))\n",
    "print(\"The predicted chance of losing the game is %.2f%%.\" % (nest_list_pred[0][0] * 100))"
   ]
  },
  {
   "cell_type": "markdown",
   "metadata": {},
   "source": [
    "### Running the next cell will allow you to make adjustments to applicable stats. Enter the percentage change you would like to make to that stat. \n",
    "\n",
    "### For example: to adjust a stat upwards by 5%, just enter '5'. You can also adjust a stat downwards by -5%, by entering '-5'."
   ]
  },
  {
   "cell_type": "code",
   "execution_count": 35,
   "metadata": {
    "collapsed": false
   },
   "outputs": [
    {
     "name": "stdout",
     "output_type": "stream",
     "text": [
      "Adjust team stats by a chosen percentage\n",
      "Let's get started.\n",
      "Total Rebounds\n",
      "5\n",
      "Defensive Rebounds\n",
      "5\n",
      "Offensive Rebounds\n",
      "5\n",
      "Field Goals Made\n",
      "5\n",
      "Blocks\n",
      "5\n",
      "Free Throws Made\n",
      "5\n",
      "Points\n",
      "5\n",
      "Field Goals Attempted\n",
      "5\n",
      "Steals\n",
      "5\n",
      "Free Throws Attempted\n",
      "5\n",
      "Oppenents Field Goal Percentage\n",
      "5\n",
      "3 Pointers Made\n",
      "5\n",
      "Total Turnovers\n",
      "5\n",
      "Number of Personal Fouls\n",
      "5\n",
      "3 Pointers Attempted\n",
      "5\n",
      "Assists\n",
      "5\n"
     ]
    }
   ],
   "source": [
    "%run adjustments.py"
   ]
  },
  {
   "cell_type": "code",
   "execution_count": 36,
   "metadata": {
    "collapsed": false
   },
   "outputs": [
    {
     "name": "stdout",
     "output_type": "stream",
     "text": [
      "The predicted chance of winning the game is 50.92%.\n",
      "The predicted chance of losing the game is 49.08%.\n"
     ]
    }
   ],
   "source": [
    "user_test = df.values\n",
    "\n",
    "prediction = rfc.predict_proba(user_test)\n",
    "\n",
    "nest_list_pred = np.ndarray.tolist(prediction)\n",
    "print(\"The predicted chance of winning the game is %.2f%%.\" % (nest_list_pred[0][1] * 100))\n",
    "print(\"The predicted chance of losing the game is %.2f%%.\" % (nest_list_pred[0][0] * 100))"
   ]
  },
  {
   "cell_type": "code",
   "execution_count": null,
   "metadata": {
    "collapsed": true
   },
   "outputs": [],
   "source": []
  }
 ],
 "metadata": {
  "anaconda-cloud": {},
  "kernelspec": {
   "display_name": "Python [conda env:py3DataScience]",
   "language": "python",
   "name": "conda-env-py3DataScience-py"
  },
  "language_info": {
   "codemirror_mode": {
    "name": "ipython",
    "version": 3
   },
   "file_extension": ".py",
   "mimetype": "text/x-python",
   "name": "python",
   "nbconvert_exporter": "python",
   "pygments_lexer": "ipython3",
   "version": "3.5.3"
  }
 },
 "nbformat": 4,
 "nbformat_minor": 1
}
