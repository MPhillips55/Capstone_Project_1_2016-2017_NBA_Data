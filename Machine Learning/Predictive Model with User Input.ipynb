{
 "cells": [
  {
   "cell_type": "markdown",
   "metadata": {},
   "source": [
    "# Predictive Model with User Input\n",
    "## 2016-2017 NBA Season\n",
    "## Michael Phillips\n",
    "\n",
    "### This notebook will allow you to train and test a random forest model using the 2016-2017 NBA Season Dataset. \n",
    "\n",
    "### Highlight a cell and press shift-enter to execute it. Please go in order down the page."
   ]
  },
  {
   "cell_type": "code",
   "execution_count": 1,
   "metadata": {
    "collapsed": false,
    "scrolled": true
   },
   "outputs": [
    {
     "name": "stdout",
     "output_type": "stream",
     "text": [
      "             precision    recall  f1-score   support\n",
      "\n",
      "          0       0.82      0.88      0.85       308\n",
      "          1       0.87      0.80      0.83       307\n",
      "\n",
      "avg / total       0.84      0.84      0.84       615\n",
      "\n",
      "The model predictes %.2f%% of the games it tests correctly.\n"
     ]
    }
   ],
   "source": [
    "import os\n",
    "filepath ='D:\\\\Springboard\\\\NBA Capstone Project\\\\Machine Learning'\n",
    "os.chdir(filepath)\n",
    "%run ml.py"
   ]
  },
  {
   "cell_type": "markdown",
   "metadata": {},
   "source": [
    "### Running the next cell will allow you to input your own team's stats and test them using the model created in the previous step. The accepted inputs are restricted to numbers only.\n",
    "\n",
    "### NOTE: For the field \"Number of Rest Days\", use the following conversions:\n",
    "- For 3+ days off enter **'3'**\n",
    "\n",
    "- For Back to Back games enter **'0'**\n",
    "\n",
    "- For 1 day off enter **'1'**\n",
    "\n",
    "- For 2 days off enter **'2'**\n",
    "\n",
    "- For 3 games in 4 nights enter **'0.75'**\n",
    "\n",
    "- For 3 games in 4 nights - back-to-back enter **'0.5'**\n",
    "\n",
    "- For 4 games in 5 nights enter **'0.2'**\n"
   ]
  },
  {
   "cell_type": "code",
   "execution_count": 3,
   "metadata": {
    "collapsed": false
   },
   "outputs": [
    {
     "name": "stdout",
     "output_type": "stream",
     "text": [
      "Input your own team's stats and test them with the predictive model.\n",
      "Assists\n",
      "asdf\n",
      "Please enter a number.\n",
      "sdfg\n",
      "Please enter a number.\n",
      "fdgsf\n",
      "Please enter a number.\n",
      "1\n",
      "Offensive Rebounds\n",
      "2\n",
      "Long Range Shots\n",
      "1\n",
      "Offensive Effeciency\n",
      "1\n",
      "Free Throws Made\n",
      "1\n",
      "Possessions\n",
      "1\n",
      "Opponent's Offensive Rebounds\n",
      "1\n",
      "Field Goals Attempted\n",
      "1\n",
      "Total Turnovers\n",
      "1\n",
      "3 Pointers Attempted\n",
      "1\n",
      "Defensive Efficiency\n",
      "1\n",
      "3 Pointers Made\n",
      "1\n",
      "Total Rebounds\n",
      "1\n",
      "Blocks\n",
      "1\n",
      "Number of Rest Days\n",
      "1\n",
      "Oppenents Field Goal Percentage\n",
      "1\n",
      "Points\n",
      "1\n",
      "Number of Personal Fouls\n",
      "1\n",
      "Field Goals Made\n",
      "1\n",
      "Mid Range Shots\n",
      "1\n",
      "Opponent's Defensive Rebounds\n",
      "1\n",
      "Close Range Shots\n",
      "1\n",
      "Free Throws Attempted\n",
      "1\n",
      "Defensive Rebounds\n",
      "1\n",
      "Pace\n",
      "1\n",
      "Steals\n",
      "1\n"
     ]
    }
   ],
   "source": [
    "%run ml_input.py"
   ]
  },
  {
   "cell_type": "code",
   "execution_count": 4,
   "metadata": {
    "collapsed": false
   },
   "outputs": [
    {
     "name": "stdout",
     "output_type": "stream",
     "text": [
      "The percent chance of losing is 46.29%.\n",
      "The percent chance of winning is 53.71%.\n"
     ]
    }
   ],
   "source": [
    "user_test = df.values\n",
    "\n",
    "prediction = rfc.predict_proba(user_test)\n",
    "\n",
    "nest_list_pred = np.ndarray.tolist(prediction)\n",
    "\n",
    "list_pred = nest_list_pred[0]\n",
    "\n",
    "chance_of_losing = (list_pred[0] * 100)\n",
    "\n",
    "chance_of_winning = (list_pred[1] * 100)\n",
    "\n",
    "print(\"The percent chance of losing is %.2f%%.\" % chance_of_losing)\n",
    "\n",
    "print(\"The percent chance of winning is %.2f%%.\" % chance_of_winning)"
   ]
  },
  {
   "cell_type": "markdown",
   "metadata": {},
   "source": [
    "### Running the next cell will allow you to make adjustments to applicable stats. Enter the percentage change you would like to make to that stat. \n",
    "\n",
    "### For example, to adjust a stat upwards by 5%, just enter '5'. You can also adjust a stat downwards by -5%, by entering '-5'."
   ]
  },
  {
   "cell_type": "code",
   "execution_count": 5,
   "metadata": {
    "collapsed": false
   },
   "outputs": [
    {
     "name": "stdout",
     "output_type": "stream",
     "text": [
      "Adjust team stats by a chosen percentage\n",
      "Let's get started.\n",
      "Assists\n",
      "-5\n",
      "Free Throws Made\n",
      "-5\n",
      "Total Turnovers\n",
      "-5\n",
      "Field Goals Attempted\n",
      "-5\n",
      "Field Goals Made\n",
      "-5\n",
      "Offensive Rebounds\n",
      "-5\n",
      "3 Pointers Attempted\n",
      "-5\n",
      "Steals\n",
      "-5\n",
      "3 Pointers Made\n",
      "-5\n",
      "Total Rebounds\n",
      "-5\n",
      "Free Throws Attempted\n",
      "-5\n",
      "Oppenents Field Goal Percentage\n",
      "-5\n",
      "Defensive Rebounds\n",
      "-5\n",
      "Blocks\n",
      "-5\n"
     ]
    }
   ],
   "source": [
    "%run adjustments.py"
   ]
  },
  {
   "cell_type": "code",
   "execution_count": 6,
   "metadata": {
    "collapsed": false
   },
   "outputs": [
    {
     "name": "stdout",
     "output_type": "stream",
     "text": [
      "The percent chance of losing is 46.29%.\n",
      "The percent chance of winning is 53.71%.\n"
     ]
    }
   ],
   "source": [
    "user_test = df2.values\n",
    "\n",
    "prediction = rfc.predict_proba(user_test)\n",
    "\n",
    "nest_list_pred = np.ndarray.tolist(prediction)\n",
    "\n",
    "list_pred = nest_list_pred[0]\n",
    "\n",
    "chance_of_losing = (list_pred[0] * 100)\n",
    "\n",
    "chance_of_winning = (list_pred[1] * 100)\n",
    "\n",
    "print(\"The percent chance of losing is %.2f%%.\" % chance_of_losing)\n",
    "\n",
    "print(\"The percent chance of winning is %.2f%%.\" % chance_of_winning)"
   ]
  },
  {
   "cell_type": "code",
   "execution_count": 9,
   "metadata": {
    "collapsed": false
   },
   "outputs": [
    {
     "data": {
      "image/png": "[encoded data removed]",
      "text/plain": [
       "<matplotlib.figure.Figure at 0x20f230e49b0>"
      ]
     },
     "metadata": {},
     "output_type": "display_data"
    }
   ],
   "source": [
    "fi = rfc.feature_importances_\n",
    "fi_df = pd.DataFrame({'fi':fi})\n",
    "\n",
    "fi_names = list(df.columns.values)\n",
    "fi_names_df = pd.DataFrame({'fi_names':fi_names})\n",
    "\n",
    "fi_imp = fi_names_df.join(fi_df)\n",
    "fi_imp = fi_imp.sort_values(by='fi',ascending=False)\n",
    "fi_imp.reset_index(drop=True,inplace=True)\n",
    "import matplotlib.pyplot as plt\n",
    "%matplotlib inline\n",
    "ax = fi_imp.plot(kind='bar',figsize=(15,10))\n",
    "ax.set_xticklabels(fi_imp.fi_names);"
   ]
  },
  {
   "cell_type": "code",
   "execution_count": null,
   "metadata": {
    "collapsed": true
   },
   "outputs": [],
   "source": []
  }
 ],
 "metadata": {
  "anaconda-cloud": {},
  "kernelspec": {
   "display_name": "Python [conda env:py3DataScience]",
   "language": "python",
   "name": "conda-env-py3DataScience-py"
  },
  "language_info": {
   "codemirror_mode": {
    "name": "ipython",
    "version": 3
   },
   "file_extension": ".py",
   "mimetype": "text/x-python",
   "name": "python",
   "nbconvert_exporter": "python",
   "pygments_lexer": "ipython3",
   "version": "3.5.3"
  }
 },
 "nbformat": 4,
 "nbformat_minor": 1
}
